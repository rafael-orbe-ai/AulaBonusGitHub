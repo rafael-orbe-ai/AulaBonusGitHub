{
  "nbformat": 4,
  "nbformat_minor": 0,
  "metadata": {
    "colab": {
      "name": "FOLIUM - EXERCICIOS.ipynb",
      "provenance": [],
      "collapsed_sections": [
        "0J50bZXahfrj",
        "X_R-4kCd1lQy",
        "LNsSqKnN2Fj-",
        "-TRqxTzV4Yu2",
        "P6Wl_mv756yX"
      ],
      "include_colab_link": true
    },
    "kernelspec": {
      "name": "python3",
      "display_name": "Python 3"
    }
  },
  "cells": [
    {
      "cell_type": "markdown",
      "metadata": {
        "id": "view-in-github",
        "colab_type": "text"
      },
      "source": [
        "<a href=\"https://colab.research.google.com/github/rafael-orbe-ai/AulaBonusGitHub/blob/main/FOLIUM_EXERCICIOS.ipynb\" target=\"_parent\"><img src=\"https://colab.research.google.com/assets/colab-badge.svg\" alt=\"Open In Colab\"/></a>"
      ]
    },
    {
      "cell_type": "markdown",
      "metadata": {
        "id": "BQJ-znkChQzg"
      },
      "source": [
        "<center><img src=\"https://raw.githubusercontent.com/rafael-arevalo/orbeai/master/Logo-Orbe-sem-fundo.png\" height=\"300px\"></center>"
      ]
    },
    {
      "cell_type": "markdown",
      "metadata": {
        "id": "Khzs5fzShbSX"
      },
      "source": [
        "# **FOLIUM: exercícios com dados da NASA sobre queimadas no Brasil.**\n"
      ]
    },
    {
      "cell_type": "markdown",
      "metadata": {
        "id": "0J50bZXahfrj"
      },
      "source": [
        "## **01.INSTALANDO O FOLIUM.**"
      ]
    },
    {
      "cell_type": "code",
      "metadata": {
        "id": "rluzun-w1WUW"
      },
      "source": [
        "# Instalando o Folium\n"
      ],
      "execution_count": null,
      "outputs": []
    },
    {
      "cell_type": "code",
      "metadata": {
        "id": "FIxdxawE1c5u",
        "cellView": "form"
      },
      "source": [
        "#@title Clique aqui para ver a resposta.\n",
        "!pip install folium"
      ],
      "execution_count": null,
      "outputs": []
    },
    {
      "cell_type": "markdown",
      "metadata": {
        "id": "X_R-4kCd1lQy"
      },
      "source": [
        "## **02.IMPORTANDO O FOLIUM.**\n"
      ]
    },
    {
      "cell_type": "code",
      "metadata": {
        "id": "9MPc9ai41q8d"
      },
      "source": [
        "# Importando o Folium\n"
      ],
      "execution_count": null,
      "outputs": []
    },
    {
      "cell_type": "code",
      "metadata": {
        "id": "kIaIqv_T1udW",
        "cellView": "form"
      },
      "source": [
        "#@title Clique aqui para ver a resposta.\n",
        "import folium"
      ],
      "execution_count": null,
      "outputs": []
    },
    {
      "cell_type": "markdown",
      "metadata": {
        "id": "33vEJgrh1z6a"
      },
      "source": [
        "## **03.CRIANDO O MAPA.**"
      ]
    },
    {
      "cell_type": "markdown",
      "metadata": {
        "id": "LNsSqKnN2Fj-"
      },
      "source": [
        "### **03.a.Crie o mapa.**\n",
        "\n"
      ]
    },
    {
      "cell_type": "markdown",
      "metadata": {
        "id": "ZnOLWjOv4V8t"
      },
      "source": [
        "Para este item do projeto, crie um mapa com a localização na cidade de Manaus (AM) e com o valor do zoom de 4.\n",
        "\n",
        "Para colher as informações de longitude e latitude use o site do [Google Mapas](https://www.google.com.br/maps/@-10.0173146,-32.3486451,3z).\n",
        "\n",
        "Observação: o nome do mapa deve ser \"mapa_queimadas\"."
      ]
    },
    {
      "cell_type": "code",
      "metadata": {
        "id": "k0_f0zle2spa"
      },
      "source": [
        "# Crie o mapa\n"
      ],
      "execution_count": null,
      "outputs": []
    },
    {
      "cell_type": "code",
      "metadata": {
        "id": "z3O8F-ei3V_-",
        "cellView": "form"
      },
      "source": [
        "#@title Clique aqui para ver a resposta.\n",
        "mapa_queimadas = folium.Map(location=[-3.0770757,-78.7625148],\n",
        "                            zoom_start=4)"
      ],
      "execution_count": null,
      "outputs": []
    },
    {
      "cell_type": "markdown",
      "metadata": {
        "id": "-TRqxTzV4Yu2"
      },
      "source": [
        "### **03.b.Mostre o mapa.**"
      ]
    },
    {
      "cell_type": "code",
      "metadata": {
        "id": "ggzzT-Je4oLe"
      },
      "source": [
        "# Mostre o mapa\n"
      ],
      "execution_count": null,
      "outputs": []
    },
    {
      "cell_type": "code",
      "metadata": {
        "id": "okoEUfgR4tCV",
        "cellView": "form"
      },
      "source": [
        "#@title Clique aqui para ver a resposta.\n",
        "mapa_queimadas"
      ],
      "execution_count": null,
      "outputs": []
    },
    {
      "cell_type": "markdown",
      "metadata": {
        "id": "4nTqrHJ841aQ"
      },
      "source": [
        "## **04.PREPARANDO O *DataFrame* PARA O MAPA.**"
      ]
    },
    {
      "cell_type": "markdown",
      "metadata": {
        "id": "ds7qs6hR5EyT"
      },
      "source": [
        "### **04.a.Importando a biblioteca Pandas.**"
      ]
    },
    {
      "cell_type": "code",
      "metadata": {
        "id": "fsQyYJ7h5wfs"
      },
      "source": [
        "# Importe a biblioteca Pandas e a apelide de pd\n"
      ],
      "execution_count": null,
      "outputs": []
    },
    {
      "cell_type": "code",
      "metadata": {
        "id": "fpjd_j7R51XA",
        "cellView": "form"
      },
      "source": [
        "#@title Clique aqui para ver a resposta.\n",
        "import pandas as pd"
      ],
      "execution_count": null,
      "outputs": []
    },
    {
      "cell_type": "markdown",
      "metadata": {
        "id": "P6Wl_mv756yX"
      },
      "source": [
        "### **04.b.Criando o *Data Frame*.**"
      ]
    },
    {
      "cell_type": "markdown",
      "metadata": {
        "id": "TCyLqnCx5uLK"
      },
      "source": [
        "Para criar o *Data Frame*, vá para o site de acompanhamento de queimadas da [NASA](https://firms.modaps.eosdis.nasa.gov/active_fire/#firms-txt) e faça o download do *dataset* (arquivo em formato \".csv\")da América do Sul (South America) da primeira coluna (MODIS 1Km) e que se refira aos últimos 7 dias."
      ]
    },
    {
      "cell_type": "code",
      "metadata": {
        "id": "_jsGLHl66-xq"
      },
      "source": [
        "# Criando o Data Frame \n"
      ],
      "execution_count": null,
      "outputs": []
    },
    {
      "cell_type": "code",
      "metadata": {
        "id": "UY4hAR9Z7DFU",
        "cellView": "form"
      },
      "source": [
        "#@title Clique aqui para ver a resposta.\n",
        "df = pd.read_csv(\"caminho do arquivo\") "
      ],
      "execution_count": null,
      "outputs": []
    },
    {
      "cell_type": "code",
      "metadata": {
        "id": "Mumm3Qez7s8C"
      },
      "source": [
        "# Visualize as 5 primeiras entradas do Data Frame\n"
      ],
      "execution_count": null,
      "outputs": []
    },
    {
      "cell_type": "code",
      "metadata": {
        "id": "INoVgoW57wp5",
        "cellView": "form"
      },
      "source": [
        "#@title Clique aqui para ver a resposta.\n",
        "df.head()"
      ],
      "execution_count": null,
      "outputs": []
    },
    {
      "cell_type": "markdown",
      "metadata": {
        "id": "dsNskYwq7WsE"
      },
      "source": [
        "### **04.c.Extraindo os dados do *Data Frame*.**"
      ]
    },
    {
      "cell_type": "code",
      "metadata": {
        "id": "YZ6cCAEo7rJF"
      },
      "source": [
        "# Criando as variáveis latitude e longitude para receber os valores das colunas latitude e longitude do Data Frame.\n"
      ],
      "execution_count": null,
      "outputs": []
    },
    {
      "cell_type": "code",
      "metadata": {
        "id": "vKZF7jK28A_R",
        "cellView": "form"
      },
      "source": [
        "#@title Clique aqui para ver a resposta.\n",
        "latitude = df.latitude.values\n",
        "longitude = df.longitude.values"
      ],
      "execution_count": null,
      "outputs": []
    },
    {
      "cell_type": "markdown",
      "metadata": {
        "id": "mn15NjCA8sRZ"
      },
      "source": [
        "## **05.ADICIONANDO UM MAPA DE CALOR (Heatmap) AO  MAPA.**"
      ]
    },
    {
      "cell_type": "markdown",
      "metadata": {
        "id": "WiVAc4dZDet_"
      },
      "source": [
        "### **05.a.Importe o pacote 'plugins' do Folium para dentro do Jupyter Notebook.**\n"
      ]
    },
    {
      "cell_type": "markdown",
      "metadata": {
        "id": "VDjkaDaAEbb6"
      },
      "source": [
        "É com este pluging que iremos fazer o nosso mapa de calor.\n"
      ]
    },
    {
      "cell_type": "code",
      "metadata": {
        "id": "ppzRgoPKDwO8"
      },
      "source": [
        "# Importando o pacote 'plugins' do Folium para dentro do Jupyter Notebook.\n"
      ],
      "execution_count": null,
      "outputs": []
    },
    {
      "cell_type": "code",
      "metadata": {
        "cellView": "form",
        "id": "Q27Y2lEUD3ZH"
      },
      "source": [
        "#@title Clique aqui para ver a resposta.\n",
        "from folium import plugins"
      ],
      "execution_count": null,
      "outputs": []
    },
    {
      "cell_type": "markdown",
      "metadata": {
        "id": "4Dj9_Hfl8-CZ"
      },
      "source": [
        "### **05.b.Criar uma lista com latitude e longitude.**"
      ]
    },
    {
      "cell_type": "code",
      "metadata": {
        "id": "YNriqa0H9Wys"
      },
      "source": [
        "# Criando uma lista para receber as coordenadas de latitude e longitude.\n"
      ],
      "execution_count": null,
      "outputs": []
    },
    {
      "cell_type": "code",
      "metadata": {
        "id": "H-ZGt96_9p1R",
        "cellView": "form"
      },
      "source": [
        "#@title Clique aqui para ver a resposta.\n",
        "coordenadas = []"
      ],
      "execution_count": null,
      "outputs": []
    },
    {
      "cell_type": "markdown",
      "metadata": {
        "id": "gPlODOLh9vbH"
      },
      "source": [
        "### **05.c.Popular (preencher) a lista criada anteriormente com os valores das variáveis latitude e longitude usando a estrutura de repetição FOR.**"
      ]
    },
    {
      "cell_type": "code",
      "metadata": {
        "id": "-DDkBijh-LZe"
      },
      "source": [
        "# Populando/preenchendo a lista com as \"coordenadas\"\n"
      ],
      "execution_count": null,
      "outputs": []
    },
    {
      "cell_type": "code",
      "metadata": {
        "id": "3VGYyUiUIGhc",
        "cellView": "form"
      },
      "source": [
        "#@title Clique aqui para ver a resposta.\n",
        "for lat,lon in zip(latitude, longitude):\n",
        "  coordenadas.append([lat,lon])"
      ],
      "execution_count": null,
      "outputs": []
    },
    {
      "cell_type": "markdown",
      "metadata": {
        "id": "dQIbPM8D-xfG"
      },
      "source": [
        "### **05.d.Usando o valor da lista \"coordenadas\" para criar o mapa de calor.**"
      ]
    },
    {
      "cell_type": "markdown",
      "metadata": {
        "id": "gg57MX2M_Hm0"
      },
      "source": [
        "Observação: vale lembrar que para esta parte do projeto vamos usar o *plugin* chamado HeatMap."
      ]
    },
    {
      "cell_type": "code",
      "metadata": {
        "id": "yQav7ruG_a95"
      },
      "source": [
        "# Usando o valores das coordendas par criar um mapa de calor\n"
      ],
      "execution_count": null,
      "outputs": []
    },
    {
      "cell_type": "code",
      "metadata": {
        "id": "xJg6nJVX_dr7"
      },
      "source": [
        "#@title Clique aqui para ver a resposta\n",
        "mapa_queimada.add_child(plugins.HeatMap(coordenadas))"
      ],
      "execution_count": null,
      "outputs": []
    }
  ]
}